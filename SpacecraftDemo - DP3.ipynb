{
 "cells": [
  {
   "cell_type": "markdown",
   "id": "middle-acoustic",
   "metadata": {},
   "source": [
    "# Spacecraft with reaction wheels and star tracker"
   ]
  },
  {
   "cell_type": "markdown",
   "id": "working-minority",
   "metadata": {},
   "source": [
    "Import modules and configure the notebook."
   ]
  },
  {
   "cell_type": "code",
   "execution_count": 1,
   "id": "informed-qatar",
   "metadata": {},
   "outputs": [
    {
     "name": "stderr",
     "output_type": "stream",
     "text": [
      "pybullet build time: Jan 28 2022 20:18:15\n"
     ]
    },
    {
     "data": {
      "text/plain": [
       "<module 'ae353_spacecraft' from '/Users/patrickthornton/Desktop/ae353 - Design Projects/ae353-DP3-spacecraft/ae353_spacecraft.py'>"
      ]
     },
     "execution_count": 1,
     "metadata": {},
     "output_type": "execute_result"
    }
   ],
   "source": [
    "# This module is part of the python standard library\n",
    "import time\n",
    "\n",
    "# These modules are part of other existing libraries\n",
    "import numpy as np\n",
    "import sympy as sym\n",
    "from scipy import linalg\n",
    "from scipy import signal\n",
    "\n",
    "# Suppress the use of scientific notation when printing small numbers\n",
    "np.set_printoptions(suppress=True)\n",
    "\n",
    "# Plotting libraries and settings\n",
    "import matplotlib.pyplot as plt\n",
    "# from matplotlib import cm\n",
    "\n",
    "# My own script (an interface to the simulator)\n",
    "import ae353_spacecraft\n",
    "\n",
    "# I often go back and forth between making changes to my scripts and to\n",
    "# the notebook in which they are used. One \"gotcha\" is that notebooks only\n",
    "# import modules or scripts ONCE. Subsequent imports don't do anything, and\n",
    "# in particular won't reflect any changes I've made to my scripts. To make\n",
    "# sure that I'm working with the \"latest version of my code, I use this bit\n",
    "# of magic, which forces the notebook to \"reload\" my script:\n",
    "import importlib\n",
    "importlib.reload(ae353_spacecraft)"
   ]
  },
  {
   "cell_type": "markdown",
   "id": "ce9c18b3",
   "metadata": {},
   "source": [
    "Create an instance of the `Simulator` class, which is an interface to the [pybullet](http://pybullet.org) simulation engine.\n",
    "\n",
    "Here are two optional arguments you may want to use:\n",
    "\n",
    "* `display` (`True` or `False`) is whether or not to show the simulation window;\n",
    "* `seed` (an integer, default `None`) is a seed to initialize the random number generator used by the simulator.\n",
    "\n",
    "**You must evaluate this cell only *once*.** If you want to start fresh with a new simulator, you must do `Kernel -> Restart` from the notebook menu first. If you evaluate this cell more than once without a call to `Kernel -> Restart` then you may get strange behavior that is hard to debug."
   ]
  },
  {
   "cell_type": "code",
   "execution_count": 2,
   "id": "3b78dbdb",
   "metadata": {},
   "outputs": [],
   "source": [
    "simulator = ae353_spacecraft.Simulator(\n",
    "    display=False,\n",
    "    seed=None,\n",
    ")"
   ]
  },
  {
   "cell_type": "markdown",
   "id": "d18d857d",
   "metadata": {},
   "source": [
    "## How to get the location of each star:"
   ]
  },
  {
   "cell_type": "code",
   "execution_count": 3,
   "id": "5c15c38f",
   "metadata": {},
   "outputs": [
    {
     "name": "stdout",
     "output_type": "stream",
     "text": [
      "star 0 : alpha = -0.10 : delta = -0.15\n",
      "star 1 : alpha =  0.00 : delta = -0.15\n",
      "star 2 : alpha =  0.10 : delta = -0.15\n",
      "star 3 : alpha =  0.00 : delta =  0.00\n",
      "star 4 : alpha = -0.10 : delta =  0.15\n",
      "star 5 : alpha =  0.00 : delta =  0.15\n",
      "star 6 : alpha =  0.10 : delta =  0.15\n"
     ]
    }
   ],
   "source": [
    "for (i, star) in enumerate(simulator.stars):\n",
    "    print(f'star {i} : alpha = {star[\"alpha\"]:5.2f} : delta = {star[\"delta\"]:5.2f}')"
   ]
  },
  {
   "cell_type": "markdown",
   "id": "cbc211cc",
   "metadata": {},
   "source": [
    "## Define equations of motion for the dynamic model and construct $f$\n",
    "\n",
    "The equations of motion have this form:\n",
    "\n",
    "$$\\begin{bmatrix} \\dot{\\psi} \\\\ \\dot{\\theta} \\\\ \\dot{\\phi} \\\\ \\dot{w_x} \\\\ \\dot{w_y} \\\\ \\dot{w_z} \\end{bmatrix} = f\\left(\\psi, \\theta, \\phi, w_x, w_y, w_z, \\tau_1, \\tau_2, \\tau_3, \\tau_4\\right)$$"
   ]
  },
  {
   "cell_type": "code",
   "execution_count": 4,
   "id": "d918e456",
   "metadata": {},
   "outputs": [
    {
     "data": {
      "text/latex": [
       "$\\displaystyle \\left[\\begin{matrix}\\frac{w_{y} \\sin{\\left(\\phi \\right)} + w_{z} \\cos{\\left(\\phi \\right)}}{\\cos{\\left(\\theta \\right)}}\\\\w_{y} \\cos{\\left(\\phi \\right)} - w_{z} \\sin{\\left(\\phi \\right)}\\\\w_{x} + w_{y} \\sin{\\left(\\phi \\right)} \\tan{\\left(\\theta \\right)} + w_{z} \\cos{\\left(\\phi \\right)} \\tan{\\left(\\theta \\right)}\\\\- \\frac{55 \\sqrt{2} \\tau_{1}}{1484} + \\frac{55 \\sqrt{2} \\tau_{2}}{1484} - \\frac{150 w_{y} w_{z}}{371}\\\\- \\frac{55 \\sqrt{2} \\tau_{3}}{1484} + \\frac{55 \\sqrt{2} \\tau_{4}}{1484} + \\frac{150 w_{x} w_{z}}{371}\\\\- \\frac{55 \\sqrt{2} \\left(\\tau_{1} + \\tau_{2} + \\tau_{3} + \\tau_{4}\\right)}{2084}\\end{matrix}\\right]$"
      ],
      "text/plain": [
       "Matrix([\n",
       "[                        (w_y*sin(phi) + w_z*cos(phi))/cos(theta)],\n",
       "[                                     w_y*cos(phi) - w_z*sin(phi)],\n",
       "[         w_x + w_y*sin(phi)*tan(theta) + w_z*cos(phi)*tan(theta)],\n",
       "[-55*sqrt(2)*tau_1/1484 + 55*sqrt(2)*tau_2/1484 - 150*w_y*w_z/371],\n",
       "[-55*sqrt(2)*tau_3/1484 + 55*sqrt(2)*tau_4/1484 + 150*w_x*w_z/371],\n",
       "[                -55*sqrt(2)*(tau_1 + tau_2 + tau_3 + tau_4)/2084]])"
      ]
     },
     "execution_count": 4,
     "metadata": {},
     "output_type": "execute_result"
    }
   ],
   "source": [
    "### Specify the physical parameters:\n",
    "# Mass and MOI of base\n",
    "mb = 6.\n",
    "Jxb = 10.\n",
    "Jyb = 10.\n",
    "Jzb = 16.\n",
    "\n",
    "# Mass and MOI of each wheel\n",
    "mw = 1.\n",
    "Jxw = 0.075\n",
    "Jyw = 0.075\n",
    "Jzw = 0.125\n",
    "lw = 1.1\n",
    "\n",
    "### Derive the equations of motion:\n",
    "# Define yaw, pitch, roll yaw angles\n",
    "psi, theta, phi = sym.symbols('psi, theta, phi')\n",
    "\n",
    "# Define angular velocities\n",
    "w_x, w_y, w_z = sym.symbols('w_x, w_y, w_z')\n",
    "\n",
    "# Define torques\n",
    "tau_1, tau_2, tau_3, tau_4 = sym.symbols('tau_1, tau_2, tau_3, tau_4')\n",
    "\n",
    "# Compute resultant torques\n",
    "lt = sym.nsimplify(lw) * sym.sqrt(2) / 2\n",
    "T1 = - tau_1 * sym.Matrix([[lt], [0], [lt]])\n",
    "T2 = - tau_2 * sym.Matrix([[-lt], [0], [lt]])\n",
    "T3 = - tau_3 * sym.Matrix([[0], [lt], [lt]])\n",
    "T4 = - tau_4 * sym.Matrix([[0], [-lt], [lt]])\n",
    "T = T1 + T2 + T3 + T4\n",
    "\n",
    "# Define MOI of spacecraft and wheels together\n",
    "Jx = sym.nsimplify(Jxb + 4 * mw * lw**2)\n",
    "Jy = sym.nsimplify(Jyb + 4 * mw * lw**2)\n",
    "Jz = sym.nsimplify(Jzb + 4 * mw * lw**2)\n",
    "\n",
    "# Define rotation matrices\n",
    "Rz = sym.Matrix([[sym.cos(psi), -sym.sin(psi), 0], [sym.sin(psi), sym.cos(psi), 0], [0, 0, 1]])\n",
    "Ry = sym.Matrix([[sym.cos(theta), 0, sym.sin(theta)], [0, 1, 0], [-sym.sin(theta), 0, sym.cos(theta)]])\n",
    "Rx = sym.Matrix([[1, 0, 0], [0, sym.cos(phi), -sym.sin(phi)], [0, sym.sin(phi), sym.cos(phi)]])\n",
    "\n",
    "# Define the transformation from angular velocity to angular rates\n",
    "ex = sym.Matrix([[1], [0], [0]])\n",
    "ey = sym.Matrix([[0], [1], [0]])\n",
    "ez = sym.Matrix([[0], [0], [1]])\n",
    "M = sym.simplify(sym.Matrix.hstack((Ry @ Rx).T @ ez, Rx.T @ ey, ex).inv(), full=True)\n",
    "\n",
    "# Define euler's equations\n",
    "euler = sym.Matrix([[(1 / Jx) * (T[0] + (Jy - Jz) * w_y * w_z)],\n",
    "                   [(1 / Jy) * (T[1] + (Jz - Jx) * w_z * w_x)],\n",
    "                   [(1 / Jz) * (T[2] + (Jx - Jy) * w_x * w_y)]])\n",
    "\n",
    "# Define equations of motion\n",
    "f = sym.simplify(sym.Matrix.vstack(M * sym.Matrix([[w_x], [w_y], [w_z]]), euler), full=True)\n",
    "\n",
    "f"
   ]
  },
  {
   "cell_type": "markdown",
   "id": "e59a5c20",
   "metadata": {},
   "source": [
    "## Derive the sensor model and construct $g$\n",
    "\n",
    "The sensor model has this form for each star:\n",
    "\n",
    "$$\\zeta = g(\\psi, \\theta, \\phi, \\alpha, \\delta)$$"
   ]
  },
  {
   "cell_type": "code",
   "execution_count": 5,
   "id": "1a02e087",
   "metadata": {},
   "outputs": [
    {
     "data": {
      "text/latex": [
       "$\\displaystyle \\left[\\begin{matrix}\\frac{21 \\left(\\sin{\\left(\\delta \\right)} \\sin{\\left(\\phi \\right)} \\cos{\\left(\\theta \\right)} + \\sin{\\left(\\phi \\right)} \\sin{\\left(\\theta \\right)} \\cos{\\left(\\delta \\right)} \\cos{\\left(\\alpha - \\psi \\right)} + \\sin{\\left(\\alpha - \\psi \\right)} \\cos{\\left(\\delta \\right)} \\cos{\\left(\\phi \\right)}\\right)}{8 \\left(- \\sin{\\left(\\delta \\right)} \\sin{\\left(\\theta \\right)} + \\cos{\\left(\\delta \\right)} \\cos{\\left(\\theta \\right)} \\cos{\\left(\\alpha - \\psi \\right)}\\right)}\\\\\\frac{21 \\left(\\sin{\\left(\\delta \\right)} \\cos{\\left(\\phi \\right)} \\cos{\\left(\\theta \\right)} - \\sin{\\left(\\phi \\right)} \\sin{\\left(\\alpha - \\psi \\right)} \\cos{\\left(\\delta \\right)} + \\sin{\\left(\\theta \\right)} \\cos{\\left(\\delta \\right)} \\cos{\\left(\\phi \\right)} \\cos{\\left(\\alpha - \\psi \\right)}\\right)}{8 \\left(- \\sin{\\left(\\delta \\right)} \\sin{\\left(\\theta \\right)} + \\cos{\\left(\\delta \\right)} \\cos{\\left(\\theta \\right)} \\cos{\\left(\\alpha - \\psi \\right)}\\right)}\\end{matrix}\\right]$"
      ],
      "text/plain": [
       "Matrix([\n",
       "[21*(sin(delta)*sin(phi)*cos(theta) + sin(phi)*sin(theta)*cos(delta)*cos(alpha - psi) + sin(alpha - psi)*cos(delta)*cos(phi))/(8*(-sin(delta)*sin(theta) + cos(delta)*cos(theta)*cos(alpha - psi)))],\n",
       "[21*(sin(delta)*cos(phi)*cos(theta) - sin(phi)*sin(alpha - psi)*cos(delta) + sin(theta)*cos(delta)*cos(phi)*cos(alpha - psi))/(8*(-sin(delta)*sin(theta) + cos(delta)*cos(theta)*cos(alpha - psi)))]])"
      ]
     },
     "execution_count": 5,
     "metadata": {},
     "output_type": "execute_result"
    }
   ],
   "source": [
    "### Symbolic variables for the right ascension alpha and declination delta of each star:\n",
    "alpha, delta = sym.symbols('alpha, delta')\n",
    "\n",
    "### Specify the physical parameters:\n",
    "# Scope radius\n",
    "r = 0.8 / 2.1\n",
    "\n",
    "### Derive the sensor model:\n",
    "# Position of star in space frame\n",
    "p_star_in_space = sym.Matrix([[sym.cos(alpha) * sym.cos(delta)],\n",
    "                              [sym.sin(alpha) * sym.cos(delta)],\n",
    "                              [sym.sin(delta)]])\n",
    "\n",
    "# Orientation of body frame in space frame\n",
    "R_body_in_space = Rz * Ry * Rx\n",
    "\n",
    "# Position of star in body frame (assuming origin of body and space frames are the same)\n",
    "p_star_in_body = R_body_in_space.T * p_star_in_space\n",
    "\n",
    "# Position of star in image frame\n",
    "p_star_in_image = (1 / sym.nsimplify(r)) * sym.Matrix([[p_star_in_body[1] / p_star_in_body[0]],\n",
    "                                                       [p_star_in_body[2] / p_star_in_body[0]]])\n",
    "\n",
    "# Sensor model for each star\n",
    "g = sym.simplify(p_star_in_image, full=True)\n",
    "\n",
    "g"
   ]
  },
  {
   "cell_type": "markdown",
   "id": "571bd934",
   "metadata": {},
   "source": [
    "## Define equilibrium point and verify that $f = 0$"
   ]
  },
  {
   "cell_type": "code",
   "execution_count": 6,
   "id": "d91eafe8",
   "metadata": {
    "scrolled": false
   },
   "outputs": [
    {
     "data": {
      "text/latex": [
       "$\\displaystyle \\left[\\begin{matrix}0\\\\0\\\\0\\\\0\\\\0\\\\0\\end{matrix}\\right]$"
      ],
      "text/plain": [
       "Matrix([\n",
       "[0],\n",
       "[0],\n",
       "[0],\n",
       "[0],\n",
       "[0],\n",
       "[0]])"
      ]
     },
     "execution_count": 6,
     "metadata": {},
     "output_type": "execute_result"
    }
   ],
   "source": [
    "psi_e = 0\n",
    "theta_e = 0\n",
    "phi_e = 0\n",
    "w_x_e = 0\n",
    "w_y_e = 0\n",
    "w_z_e = 0\n",
    "tau_1_e = 0\n",
    "tau_2_e = 0\n",
    "tau_3_e = 0\n",
    "tau_4_e = 0\n",
    "\n",
    "eq = {psi: psi_e, \n",
    "      theta: theta_e, \n",
    "      phi: phi_e, \n",
    "      w_x: w_x_e, \n",
    "      w_y: w_y_e, \n",
    "      w_z: w_z_e, \n",
    "      tau_1: tau_1_e, \n",
    "      tau_2: tau_2_e, \n",
    "      tau_3: tau_3_e, \n",
    "      tau_4: tau_4_e,\n",
    "     }\n",
    "\n",
    "f.subs(eq)"
   ]
  },
  {
   "cell_type": "markdown",
   "id": "a368b451",
   "metadata": {},
   "source": [
    "## Get symbolic forms of $A$ and $B$ and print $\\LaTeX$–formatted text"
   ]
  },
  {
   "cell_type": "code",
   "execution_count": 7,
   "id": "ca62b892",
   "metadata": {},
   "outputs": [],
   "source": [
    "from sympy.physics import mechanics\n",
    "mechanics.init_vprinting()\n",
    "\n",
    "A_sym = f.jacobian([psi, theta, phi, w_x, w_y, w_z]).subs(eq)\n",
    "B_sym = f.jacobian([tau_1, tau_2, tau_3, tau_4]).subs(eq)"
   ]
  },
  {
   "cell_type": "code",
   "execution_count": 8,
   "id": "9dc228a8",
   "metadata": {},
   "outputs": [
    {
     "data": {
      "image/png": "[encoded data removed]",
      "text/latex": [
       "$\\displaystyle \\left[\\begin{matrix}0 & 0 & 0 & 0 & 0 & 1\\\\0 & 0 & 0 & 0 & 1 & 0\\\\0 & 0 & 0 & 1 & 0 & 0\\\\0 & 0 & 0 & 0 & 0 & 0\\\\0 & 0 & 0 & 0 & 0 & 0\\\\0 & 0 & 0 & 0 & 0 & 0\\end{matrix}\\right]$"
      ],
      "text/plain": [
       "⎡0  0  0  0  0  1⎤\n",
       "⎢                ⎥\n",
       "⎢0  0  0  0  1  0⎥\n",
       "⎢                ⎥\n",
       "⎢0  0  0  1  0  0⎥\n",
       "⎢                ⎥\n",
       "⎢0  0  0  0  0  0⎥\n",
       "⎢                ⎥\n",
       "⎢0  0  0  0  0  0⎥\n",
       "⎢                ⎥\n",
       "⎣0  0  0  0  0  0⎦"
      ]
     },
     "execution_count": 8,
     "metadata": {},
     "output_type": "execute_result"
    }
   ],
   "source": [
    "A_sym\n",
    "# print(f'{mechanics.mlatex(A_sym.subs(eq))}')"
   ]
  },
  {
   "cell_type": "code",
   "execution_count": 9,
   "id": "62627691",
   "metadata": {
    "scrolled": true
   },
   "outputs": [
    {
     "data": {
      "image/png": "[encoded data removed]",
      "text/latex": [
       "$\\displaystyle \\left[\\begin{matrix}0 & 0 & 0 & 0\\\\0 & 0 & 0 & 0\\\\0 & 0 & 0 & 0\\\\- \\frac{55 \\sqrt{2}}{1484} & \\frac{55 \\sqrt{2}}{1484} & 0 & 0\\\\0 & 0 & - \\frac{55 \\sqrt{2}}{1484} & \\frac{55 \\sqrt{2}}{1484}\\\\- \\frac{55 \\sqrt{2}}{2084} & - \\frac{55 \\sqrt{2}}{2084} & - \\frac{55 \\sqrt{2}}{2084} & - \\frac{55 \\sqrt{2}}{2084}\\end{matrix}\\right]$"
      ],
      "text/plain": [
       "⎡   0        0        0        0   ⎤\n",
       "⎢                                  ⎥\n",
       "⎢   0        0        0        0   ⎥\n",
       "⎢                                  ⎥\n",
       "⎢   0        0        0        0   ⎥\n",
       "⎢                                  ⎥\n",
       "⎢-55⋅√2    55⋅√2                   ⎥\n",
       "⎢───────   ─────      0        0   ⎥\n",
       "⎢  1484     1484                   ⎥\n",
       "⎢                                  ⎥\n",
       "⎢                  -55⋅√2    55⋅√2 ⎥\n",
       "⎢   0        0     ───────   ───── ⎥\n",
       "⎢                    1484     1484 ⎥\n",
       "⎢                                  ⎥\n",
       "⎢-55⋅√2   -55⋅√2   -55⋅√2   -55⋅√2 ⎥\n",
       "⎢───────  ───────  ───────  ───────⎥\n",
       "⎣  2084     2084     2084     2084 ⎦"
      ]
     },
     "execution_count": 9,
     "metadata": {},
     "output_type": "execute_result"
    }
   ],
   "source": [
    "B_sym\n",
    "# print(f'{mechanics.mlatex(B_sym.subs(eq))}')"
   ]
  },
  {
   "cell_type": "markdown",
   "id": "3dba8b11",
   "metadata": {},
   "source": [
    "## Define a function to return a state-space model for a given choice of equilibrium point."
   ]
  },
  {
   "cell_type": "code",
   "execution_count": 10,
   "id": "51095dce",
   "metadata": {},
   "outputs": [],
   "source": [
    "def get_model(\n",
    "    psi_e,\n",
    "    theta_e,\n",
    "    phi_e,\n",
    "    w_x_e,\n",
    "    w_y_e,\n",
    "    w_z_e,\n",
    "    tau_1_e,\n",
    "    tau_2_e,\n",
    "    tau_3_e,\n",
    "    tau_4_e\n",
    "    ):\n",
    "    \n",
    "    # Find A and B in symbolic form\n",
    "    A_sym = f.jacobian([psi, theta, phi, w_x, w_y, w_z])\n",
    "    \n",
    "    B_sym = f.jacobian([tau_1, tau_2, tau_3, tau_4])\n",
    "    \n",
    "    # Create lambda functions to allow numerical evaluation of A and B\n",
    "    A_num = sym.lambdify([psi, theta, phi, w_x, w_y, w_z, tau_1, tau_2, tau_3, tau_4], A_sym)\n",
    "    \n",
    "    B_num = sym.lambdify([psi, theta, phi, w_x, w_y, w_z, tau_1, tau_2, tau_3, tau_4], B_sym)\n",
    "    \n",
    "    # Find A and B in numeric form (making sure the result is floating-point)\n",
    "    A = A_num(psi_e, theta_e, phi_e, w_x_e, w_y_e, w_z_e, tau_1_e, tau_2_e, tau_3_e, tau_4_e).astype(float)\n",
    "    \n",
    "    B = B_num(psi_e, theta_e, phi_e, w_x_e, w_y_e, w_z_e, tau_1_e, tau_2_e, tau_3_e, tau_4_e).astype(float)\n",
    "    \n",
    "    # Return A and B\n",
    "    return A, B"
   ]
  },
  {
   "cell_type": "code",
   "execution_count": 11,
   "id": "edc4f093",
   "metadata": {
    "scrolled": false
   },
   "outputs": [
    {
     "name": "stdout",
     "output_type": "stream",
     "text": [
      "A =\n",
      "[[ 0.  0.  0.  0.  0.  1.]\n",
      " [ 0.  0.  0.  0.  1. -0.]\n",
      " [ 0.  0.  0.  1.  0.  0.]\n",
      " [ 0.  0.  0.  0. -0. -0.]\n",
      " [ 0.  0.  0.  0.  0.  0.]\n",
      " [ 0.  0.  0.  0.  0.  0.]]\n",
      "\n",
      "B =\n",
      "[[ 0.          0.          0.          0.        ]\n",
      " [ 0.          0.          0.          0.        ]\n",
      " [ 0.          0.          0.          0.        ]\n",
      " [-0.05241358  0.05241358  0.          0.        ]\n",
      " [ 0.          0.         -0.05241358  0.05241358]\n",
      " [-0.03732329 -0.03732329 -0.03732329 -0.03732329]]\n",
      "\n"
     ]
    }
   ],
   "source": [
    "A, B = get_model(\n",
    "    psi_e,\n",
    "    theta_e,\n",
    "    phi_e,\n",
    "    w_x_e,\n",
    "    w_y_e,\n",
    "    w_z_e,\n",
    "    tau_1_e,\n",
    "    tau_2_e,\n",
    "    tau_3_e,\n",
    "    tau_4_e\n",
    "    )\n",
    "print(f'A =\\n{A}\\n')\n",
    "print(f'B =\\n{B}\\n')"
   ]
  },
  {
   "cell_type": "markdown",
   "id": "bbbe2f0d",
   "metadata": {},
   "source": [
    "## Determine if the system is controllable\n",
    "\n",
    "Compute the controllability matrix $\\boldsymbol{W}_C$ and confirm that it is full rank."
   ]
  },
  {
   "cell_type": "code",
   "execution_count": 12,
   "id": "fa7ba20f",
   "metadata": {},
   "outputs": [
    {
     "name": "stdout",
     "output_type": "stream",
     "text": [
      "Rank of controllability matrix = 6\n",
      "\n",
      "Largest possible rank = 6\n",
      "\n"
     ]
    }
   ],
   "source": [
    "def get_W_c(A, B):\n",
    "    n = A.shape[0]\n",
    "    W_c = B\n",
    "    for i in range(1, n):\n",
    "        col = np.linalg.matrix_power(A, i) @ B\n",
    "        W_c = np.block([W_c, col])\n",
    "    return W_c\n",
    "\n",
    "W_c = get_W_c(A, B)\n",
    "rank_c = np.linalg.matrix_rank(W_c)\n",
    "print(f'Rank of controllability matrix = {rank_c}\\n')\n",
    "print(f'Largest possible rank = {A.shape[0]}\\n')"
   ]
  },
  {
   "cell_type": "markdown",
   "id": "31cc37a4",
   "metadata": {},
   "source": [
    "## Determine $g$ numerically with equilibrium values and respective $\\alpha$ and $\\delta$"
   ]
  },
  {
   "cell_type": "code",
   "execution_count": 13,
   "id": "9a217a43",
   "metadata": {},
   "outputs": [
    {
     "data": {
      "text/plain": [
       "array([[-0.26337851],\n",
       "       [-0.3987219 ],\n",
       "       [ 0.        ],\n",
       "       [-0.39672995],\n",
       "       [ 0.26337851],\n",
       "       [-0.3987219 ],\n",
       "       [ 0.        ],\n",
       "       [ 0.        ],\n",
       "       [-0.26337851],\n",
       "       [ 0.3987219 ],\n",
       "       [ 0.        ],\n",
       "       [ 0.39672995],\n",
       "       [ 0.26337851],\n",
       "       [ 0.3987219 ]])"
      ]
     },
     "execution_count": 13,
     "metadata": {},
     "output_type": "execute_result"
    }
   ],
   "source": [
    "# index star y and z-coordinates\n",
    "star_params = np.zeros([7,2])\n",
    "for (i, star) in enumerate(simulator.stars):\n",
    "    star_params[i,0] = star[\"alpha\"]\n",
    "    star_params[i,1] = star[\"delta\"]\n",
    "\n",
    "# define symbols and fill out g matrix with numerical coordinates for all 7 stars\n",
    "alpha_0, delta_0, alpha_1, delta_1, alpha_2, delta_2, alpha_3, delta_3, alpha_4, delta_4, alpha_5, delta_5, alpha_6, delta_6 = sym.symbols('alpha_0, delta_0, alpha_1, delta_1, alpha_2, delta_2, alpha_3, delta_3, alpha_4, delta_4, alpha_5, delta_5, alpha_6, delta_6')\n",
    "g0 = g.subs([(alpha, alpha_0), (delta, delta_0)])\n",
    "g_full = g0.row_insert(2, g.subs([(alpha, alpha_1), (delta, delta_1)]))\n",
    "g_full = g_full.row_insert(4, g.subs([(alpha, alpha_2), (delta, delta_2)]))\n",
    "g_full = g_full.row_insert(6, g.subs([(alpha, alpha_3), (delta, delta_3)]))\n",
    "g_full = g_full.row_insert(8, g.subs([(alpha, alpha_4), (delta, delta_4)]))\n",
    "g_full = g_full.row_insert(10, g.subs([(alpha, alpha_5), (delta, delta_5)]))\n",
    "g_full = g_full.row_insert(12, g.subs([(alpha, alpha_6), (delta, delta_6)]))\n",
    "G = g_full.subs([(alpha_0, star_params[0,0]), (delta_0, star_params[0,1]), (alpha_1, star_params[1,0]), (delta_1, star_params[1,1]), (alpha_2, star_params[2,0]), (delta_2, star_params[2,1]), (alpha_3, star_params[3,0]), (delta_3, star_params[3,1]), (alpha_4, star_params[4,0]), (delta_4, star_params[4,1]), (alpha_5, star_params[5,0]), (delta_5, star_params[5,1]), (alpha_6, star_params[6,0]), (delta_6, star_params[6,1])])\n",
    "\n",
    "# substitute numerical equlibrium values of parameters into g\n",
    "G_num = sym.lambdify((psi, theta, phi), G)\n",
    "G_eq = G_num(psi_e, theta_e, phi_e)\n",
    "G_eq"
   ]
  },
  {
   "cell_type": "markdown",
   "id": "72a2a7ff",
   "metadata": {},
   "source": [
    "## Get symbolic form of $C$ and print $\\LaTeX$–formatted text, then get numerical form of $C$"
   ]
  },
  {
   "cell_type": "code",
   "execution_count": 14,
   "id": "4e19b723",
   "metadata": {
    "scrolled": true
   },
   "outputs": [
    {
     "name": "stdout",
     "output_type": "stream",
     "text": [
      "C =\n",
      "[[-2.651426    0.04000563 -0.3987219   0.          0.          0.        ]\n",
      " [-0.04000563  2.68556349  0.26337851  0.          0.          0.        ]\n",
      " [-2.625       0.         -0.39672995  0.          0.          0.        ]\n",
      " [ 0.          2.68495987  0.          0.          0.          0.        ]\n",
      " [-2.651426   -0.04000563 -0.3987219   0.          0.          0.        ]\n",
      " [ 0.04000563  2.68556349 -0.26337851  0.          0.          0.        ]\n",
      " [-2.625       0.          0.          0.          0.          0.        ]\n",
      " [ 0.          2.625       0.          0.          0.          0.        ]\n",
      " [-2.651426   -0.04000563  0.3987219   0.          0.          0.        ]\n",
      " [ 0.04000563  2.68556349  0.26337851  0.          0.          0.        ]\n",
      " [-2.625       0.          0.39672995  0.          0.          0.        ]\n",
      " [ 0.          2.68495987  0.          0.          0.          0.        ]\n",
      " [-2.651426    0.04000563  0.3987219   0.          0.          0.        ]\n",
      " [-0.04000563  2.68556349 -0.26337851  0.          0.          0.        ]]\n",
      "\n"
     ]
    }
   ],
   "source": [
    "C_num = sym.lambdify((psi, theta, phi), G.jacobian([psi, theta, phi, w_x, w_y, w_z]))\n",
    "C = C_num(psi_e, theta_e, phi_e)\n",
    "# C = sym.Matrix(C)\n",
    "print(f'C =\\n{C}\\n')\n",
    "# print(f'{mechanics.mlatex(C)}')"
   ]
  },
  {
   "cell_type": "markdown",
   "id": "c3ab2c28",
   "metadata": {},
   "source": [
    "## Determine if the system is observable\n",
    "\n",
    "Compute the observability matrix $\\boldsymbol{W}_O$ and confirm that it is full rank."
   ]
  },
  {
   "cell_type": "code",
   "execution_count": 15,
   "id": "1abb344c",
   "metadata": {},
   "outputs": [
    {
     "name": "stdout",
     "output_type": "stream",
     "text": [
      "Rank of obervability matrix = 6\n",
      "\n",
      "Largest possible rank = 6\n",
      "\n"
     ]
    }
   ],
   "source": [
    "def get_W_o(C, A):\n",
    "    n = A.shape[0]\n",
    "    W_o = C\n",
    "    for i in range(1, n):\n",
    "        row = C @ np.linalg.matrix_power(A, i)\n",
    "        W_o = np.block([[W_o], [row]])\n",
    "    return W_c\n",
    "\n",
    "W_o = get_W_o(C, A)\n",
    "rank_o = np.linalg.matrix_rank(W_o)\n",
    "print(f'Rank of obervability matrix = {rank_o}\\n')\n",
    "print(f'Largest possible rank = {A.shape[0]}\\n')"
   ]
  },
  {
   "cell_type": "markdown",
   "id": "5a1a58eb",
   "metadata": {},
   "source": [
    "## Compute a controller gains matrix $K$ using LQR\n",
    "Then verify that the controller is asymptotically stable in theory by verifying all eigenvalues have negative real part."
   ]
  },
  {
   "cell_type": "code",
   "execution_count": 16,
   "id": "6cd41696",
   "metadata": {},
   "outputs": [
    {
     "name": "stdout",
     "output_type": "stream",
     "text": [
      "K =\n",
      "[[-0.5        -0.         -0.5        -3.10878003 -0.         -2.61213125]\n",
      " [-0.5         0.          0.5         3.10878003  0.         -2.61213125]\n",
      " [-0.5        -0.70710678 -0.         -0.         -3.70687322 -2.61213125]\n",
      " [-0.5         0.70710678  0.          0.          3.70687322 -2.61213125]]\n",
      "\n"
     ]
    }
   ],
   "source": [
    "# define a function that takes A, B, and diagonal weight matrices as inputs, \n",
    "# and produces a gains matrix that yields stable results\n",
    "def lqr(A,B,Q,R):\n",
    "    P = linalg.solve_continuous_are(A,B,Q,R)\n",
    "    K = linalg.inv(R) @ B.T @ P\n",
    "    return K\n",
    "\n",
    "# choose Q and R (error and effort weights)\n",
    "# for reference, the positions in Q correspond to [yaw, pitch, roll, wx, wy, wz]\n",
    "Qc = np.diag([1., 1., 0.5, 0.25, 0.5, 0.5])\n",
    "Rc = np.eye(4)\n",
    "\n",
    "# compute K for the choice of weights\n",
    "K = lqr(A, B, Qc, Rc)\n",
    "print(f'K =\\n{K}\\n')"
   ]
  },
  {
   "cell_type": "code",
   "execution_count": 17,
   "id": "57a25fdb",
   "metadata": {
    "scrolled": true
   },
   "outputs": [
    {
     "name": "stdout",
     "output_type": "stream",
     "text": [
      "[-0.19498669+0.19138124j -0.19498669-0.19138124j -0.19429048+0.19072283j\n",
      " -0.19429048-0.19072283j -0.16294228+0.16082099j -0.16294228-0.16082099j]\n"
     ]
    }
   ],
   "source": [
    "# confirm that all eigenvalues have negative real part\n",
    "print(linalg.eigvals(A-B@K))"
   ]
  },
  {
   "cell_type": "markdown",
   "id": "4a9f7e20",
   "metadata": {},
   "source": [
    "## Compute an observer gains matrix $L$ using LQR\n",
    "Then verify that the observer is asymptotically stable in theory by verifying all eigenvalues have negative real part."
   ]
  },
  {
   "cell_type": "code",
   "execution_count": 18,
   "id": "81f277f3",
   "metadata": {},
   "outputs": [
    {
     "name": "stdout",
     "output_type": "stream",
     "text": [
      "L =\n",
      "[[-0.90141178 -0.01360081 -0.89242767  0.         -0.90141178  0.01360081\n",
      "  -0.89242767  0.         -0.90141178  0.01360081 -0.89242767  0.\n",
      "  -0.90141178 -0.01360081]\n",
      " [ 0.01340398  0.89980438 -0.          0.89960214 -0.01340398  0.89980438\n",
      "  -0.          0.87951244 -0.01340398  0.89980438  0.          0.89960214\n",
      "   0.01340398  0.89980438]\n",
      " [-1.0814649   0.71436914 -1.07606208  0.         -1.0814649  -0.71436914\n",
      "   0.          0.          1.0814649   0.71436914  1.07606208  0.\n",
      "   1.0814649  -0.71436914]\n",
      " [-0.80449672  0.53141589 -0.80047759 -0.         -0.80449672 -0.53141589\n",
      "   0.         -0.          0.80449672  0.53141589  0.80047759 -0.\n",
      "   0.80449672 -0.53141589]\n",
      " [ 0.01263019  0.84785996  0.          0.84766939 -0.01263019  0.84785996\n",
      "   0.          0.82873945 -0.01263019  0.84785996 -0.          0.84766939\n",
      "   0.01263019  0.84785996]\n",
      " [-0.84871368 -0.01280569 -0.8402548   0.         -0.84871368  0.01280569\n",
      "  -0.8402548   0.         -0.84871368  0.01280569 -0.8402548   0.\n",
      "  -0.84871368 -0.01280569]]\n",
      "\n"
     ]
    }
   ],
   "source": [
    "# choose Q and R (error and effort weights)\n",
    "# for reference, the positions in Q correspond to [yaw, pitch, roll, wx, wy, wz]\n",
    "Qo = np.eye(C.shape[0])\n",
    "Ro = np.eye(C.shape[1]) * 0.2 # tuning\n",
    "\n",
    "# compute K for the choice of weights\n",
    "L = lqr(A.T, C.T, linalg.inv(Ro), linalg.inv(Qo)).T\n",
    "print(f'L =\\n{L}\\n')"
   ]
  },
  {
   "cell_type": "code",
   "execution_count": 19,
   "id": "b9f01029",
   "metadata": {},
   "outputs": [
    {
     "name": "stdout",
     "output_type": "stream",
     "text": [
      "[-15.58808673+0.j  -1.00206408+0.j  -2.20983873+0.j  -1.12138627+0.j\n",
      " -15.80557606+0.j  -1.0020075 +0.j]\n"
     ]
    }
   ],
   "source": [
    "# confirm that all eigenvalues have negative real part\n",
    "print(linalg.eigvals(A-L@C))"
   ]
  },
  {
   "cell_type": "markdown",
   "id": "3f9ebffb",
   "metadata": {},
   "source": [
    "## Define a controller that maps sensor measurements to actuator commands"
   ]
  },
  {
   "cell_type": "code",
   "execution_count": 20,
   "id": "bf439d71",
   "metadata": {},
   "outputs": [],
   "source": [
    "class Controller:\n",
    "    def __init__(self):\n",
    "        self.dt = 0.01\n",
    "        self.A = A\n",
    "        self.B = B\n",
    "        self.C = C\n",
    "        self.K = K\n",
    "        self.L =  L\n",
    "        self.G_eq = G_eq.flatten() # turn the nx1 array into a 1xn array\n",
    "        self.psi_e = 0\n",
    "        self.theta_e = 0\n",
    "        self.phi_e = 0\n",
    "        self.w_x_e = 0\n",
    "        self.w_y_e = 0\n",
    "        self.w_z_e = 0\n",
    "        self.tau_1_e = 0\n",
    "        self.tau_2_e = 0\n",
    "        self.tau_3_e = 0\n",
    "        self.tau_4_e = 0\n",
    "    \n",
    "    def reset(self):\n",
    "        self.xhat = np.zeros((6,1)) # reset state estimate to 0\n",
    "    \n",
    "    def run(self, t, star_meas):\n",
    "        \"\"\"\n",
    "        star_meas is a 1d array of length 14 - the image coordinates\n",
    "        y_i and z_i of the i'th star (for i = 0, ..., 6) are at index\n",
    "        2*i and 2*i+1 of this array, respectively\n",
    "        \"\"\"\n",
    "        \n",
    "        # implement linear state feedback\n",
    "        u = -self.K @ self.xhat \n",
    "        \n",
    "        # relay actuator commands\n",
    "        front_torque = u[0][0]\n",
    "        back_torque  = u[1][0]\n",
    "        left_torque  = u[2][0]\n",
    "        right_torque = u[3][0]\n",
    "        \n",
    "        y = np.array([star_meas - self.G_eq])\n",
    "        self.xhat += self.dt * (self.A@self.xhat + self.B@u - self.L@(self.C@self.xhat - y.T))\n",
    "        \n",
    "        return front_torque, back_torque, left_torque, right_torque\n",
    "    \n",
    "# create an instance of the controller\n",
    "controller = Controller()"
   ]
  },
  {
   "cell_type": "markdown",
   "id": "19c52b8d",
   "metadata": {},
   "source": [
    "You could reset the simulator with given initial conditions, optionally specifying scope noise (default is `0.1`), i.e., the standard deviation of the $y$ and $z$ components of each star tracker measurement."
   ]
  },
  {
   "cell_type": "markdown",
   "id": "5cb3dacd",
   "metadata": {},
   "source": [
    "## Run the simulator for one simulation\n",
    "\n",
    "The initial conditions are as follows:\n",
    "\n",
    "* initial spacecraft orientation sampled at random\n",
    "* initial angular velocity set to 0 on all axes\n",
    "* sensor noise set to the default of 0.1\n",
    "\n",
    "The simulation will quit when one of the following conditions is satisfied:\n",
    "\n",
    "* Any star goes out of view of the scope.\n",
    "* Any reaction wheel has angular velocity exceeding +/- 50 rad/s.\n",
    "* The maximum time is reached."
   ]
  },
  {
   "cell_type": "code",
   "execution_count": 21,
   "id": "8e649e63",
   "metadata": {},
   "outputs": [],
   "source": [
    "# reset the simulator with specified initial conditions\n",
    "simulator.reset(\n",
    "    orientation=None,\n",
    "    angular_velocity={\n",
    "        'x': 0.,\n",
    "        'y': 0.,\n",
    "        'z': 0.,\n",
    "    },\n",
    "    scope_noise=0.1,\n",
    ")\n",
    "\n",
    "# reset the controller\n",
    "controller.reset()\n",
    "\n",
    "# run the simulator\n",
    "data = simulator.run(\n",
    "    controller,           # <-- required (an instance of your Controller class)\n",
    "    max_time=60.0,        # <-- optional (how long you want to run the simulation in seconds)\n",
    "    data_filename=None,   # <-- optional (name of file to which you want data saved, e.g., 'my_data.json')\n",
    "    video_filename=None,  # <-- optional (name of file to which you want video saved, e.g., 'my_video.mov')\n",
    "    print_debug=False,    # <-- optional (whether to print debug text - this is recommended when saving video)\n",
    ")"
   ]
  },
  {
   "cell_type": "markdown",
   "id": "c3e2d2d7",
   "metadata": {},
   "source": [
    "Get, show, and save a snapshot of the simulation after the last time step."
   ]
  },
  {
   "cell_type": "code",
   "execution_count": 22,
   "id": "7657f10b",
   "metadata": {},
   "outputs": [
    {
     "data": {
      "text/plain": [
       "<matplotlib.image.AxesImage at 0x144cd9e10>"
      ]
     },
     "execution_count": 22,
     "metadata": {},
     "output_type": "execute_result"
    },
    {
     "data": {
      "image/png": "[encoded data removed]",
      "text/plain": [
       "<Figure size 576x576 with 1 Axes>"
      ]
     },
     "metadata": {
      "needs_background": "light"
     },
     "output_type": "display_data"
    }
   ],
   "source": [
    "# Get snapshot as height x width x 4 numpy array of RGBA values\n",
    "rgba = simulator.snapshot()\n",
    "\n",
    "# Display snapshot\n",
    "plt.figure(figsize=(8, 8))\n",
    "plt.imshow(rgba)\n",
    "\n",
    "# Save snapshot\n",
    "# plt.imsave('final_step.png', rgba)"
   ]
  },
  {
   "cell_type": "markdown",
   "id": "38a9c4a6",
   "metadata": {},
   "source": [
    "## Run the simulator and collect data for 500 simulations"
   ]
  },
  {
   "cell_type": "code",
   "execution_count": 23,
   "id": "e57b4f4c",
   "metadata": {},
   "outputs": [],
   "source": [
    "# create lists for storing parameter arrays\n",
    "psi_RMSE_list = []\n",
    "theta_RMSE_list = []\n",
    "phi_RMSE_list = []\n",
    "simulation_length_list = []\n",
    "\n",
    "# run the simulator until data is collected for 500 simulations\n",
    "while len(simulation_length_list) <= 500:\n",
    "    # reset the simulator with specified initial conditions\n",
    "    simulator.reset(\n",
    "        orientation=None,\n",
    "        angular_velocity={\n",
    "        'x': 0.,\n",
    "        'y': 0.,\n",
    "        'z': 0.,\n",
    "        },\n",
    "        scope_noise=0.1,\n",
    "    )\n",
    "    # reset the controller\n",
    "    controller.reset()\n",
    "\n",
    "    # run the simulator for 120 seconds\n",
    "    data = simulator.run(\n",
    "        controller,           # <-- required (an instance of your Controller class)\n",
    "        max_time=120.0,         # <-- optional (how long you want to run the simulation in seconds)\n",
    "        data_filename=None,   # <-- optional (name of file to which you want data saved, e.g., 'my_data.json')\n",
    "        video_filename=None,  # <-- optional (name of file to which you want video saved, e.g., 'my_video.mov')\n",
    "        print_debug=False,    # <-- optional (whether to print debug text - this is recommended when saving video)\n",
    "    )\n",
    "    \n",
    "    # get final time (i.e., simulation run time)\n",
    "    simulation_length = data['t'][-1]\n",
    "    simulation_length_list.append(simulation_length)\n",
    "    \n",
    "    # calculate RMSE of yaw, pitch, and roll with respect to 0 for each simulation\n",
    "    psi_RMSE = (np.sum(np.square(data['yaw'])) / len(data['yaw']))**0.5\n",
    "    psi_RMSE_list.append(psi_RMSE)\n",
    "    \n",
    "    theta_RMSE = (np.sum(np.square(data['pitch'])) / len(data['pitch']))**0.5\n",
    "    theta_RMSE_list.append(theta_RMSE)\n",
    "    \n",
    "    phi_RMSE = (np.sum(np.square(data['roll'])) / len(data['roll']))**0.5\n",
    "    phi_RMSE_list.append(phi_RMSE)"
   ]
  },
  {
   "cell_type": "markdown",
   "id": "b6233c34",
   "metadata": {},
   "source": [
    "## Plot and save a histogram of simulation times until failure"
   ]
  },
  {
   "cell_type": "code",
   "execution_count": 29,
   "id": "5d15eeb3",
   "metadata": {},
   "outputs": [
    {
     "data": {
      "image/png": "[encoded data removed]",
      "text/plain": [
       "<Figure size 432x288 with 1 Axes>"
      ]
     },
     "metadata": {
      "needs_background": "light"
     },
     "output_type": "display_data"
    }
   ],
   "source": [
    "fig, ax = plt.subplots(1, 1, figsize=(6, 4), tight_layout=True)\n",
    "\n",
    "ax.hist(simulation_length_list, 61)\n",
    "ax.set_xlabel(\"Time Until Failure (s)\")\n",
    "ax.set_ylabel(\"Number of Trials\")\n",
    "# ax.set_yticks([0, 5, 10, 15, 20])\n",
    "\n",
    "plt.show()\n",
    "fig.savefig('time_until_failure.png', facecolor='white', transparent=False)"
   ]
  },
  {
   "cell_type": "markdown",
   "id": "e18079d2",
   "metadata": {},
   "source": [
    "## Plot a histogram of RMSE for yaw, pitch, and roll with respect to their equilibrium values"
   ]
  },
  {
   "cell_type": "code",
   "execution_count": 28,
   "id": "510bfa41",
   "metadata": {
    "scrolled": false
   },
   "outputs": [
    {
     "data": {
      "image/png": "[encoded data removed]",
      "text/plain": [
       "<Figure size 432x576 with 3 Axes>"
      ]
     },
     "metadata": {
      "needs_background": "light"
     },
     "output_type": "display_data"
    }
   ],
   "source": [
    "fig = plt.figure(figsize=(6, 8), tight_layout=True)\n",
    "ax1 = fig.add_subplot(311)\n",
    "ax1.hist(psi_RMSE_list,50)\n",
    "ax1.set_xlabel(\"RMSE of Yaw\")\n",
    "ax1.set_ylabel(\"Number of Trials\")\n",
    "\n",
    "ax2 = fig.add_subplot(312)\n",
    "ax2.hist(theta_RMSE_list,50)\n",
    "ax2.set_xlabel(\"RMSE of Pitch\")\n",
    "ax2.set_ylabel(\"Number of Trials\")\n",
    "\n",
    "ax3 = fig.add_subplot(313)\n",
    "ax3.hist(phi_RMSE_list,50)\n",
    "ax3.set_xlabel(\"RMSE of Roll\")\n",
    "ax3.set_ylabel(\"Number of Trials\")\n",
    "\n",
    "# fig.savefig('RMSE_data.png', facecolor='white', transparent=False)"
   ]
  },
  {
   "cell_type": "markdown",
   "id": "868444ad",
   "metadata": {},
   "source": [
    "## Determine the 80th percentile RMSE for each parameter\n",
    "\n",
    "If the 80th percentile RMSE for each orientation parameter is less than $\\frac{\\pi}{6}$, this indicates that 80% of the simulations ran yielded an RMSE less than $\\frac{\\pi}{6}$, and thus the requirement is met."
   ]
  },
  {
   "cell_type": "code",
   "execution_count": 30,
   "id": "57140c1d",
   "metadata": {},
   "outputs": [
    {
     "name": "stdout",
     "output_type": "stream",
     "text": [
      "0.5235987755982988   = pi/6\n",
      "\n",
      "0.05190481250942676  = 80th %ile (yaw)\n",
      "\n",
      "0.09196594904646614  = 80th %ile (pitch)\n",
      "\n",
      "0.2246160121155958   = 80th %ile (roll)\n",
      "\n"
     ]
    }
   ],
   "source": [
    "psi_RMSE_arr = np.array(psi_RMSE_list)\n",
    "theta_RMSE_arr = np.array(theta_RMSE_list)\n",
    "phi_RMSE_arr = np.array(phi_RMSE_list)\n",
    "\n",
    "print(np.pi/6, '  = pi/6\\n')\n",
    "\n",
    "print(np.percentile(psi_RMSE_arr, 80), ' = 80th %ile (yaw)\\n')\n",
    "print(np.percentile(theta_RMSE_arr, 80), ' = 80th %ile (pitch)\\n')\n",
    "print(np.percentile(phi_RMSE_arr, 80), '  = 80th %ile (roll)\\n')\n",
    "\n"
   ]
  }
 ],
 "metadata": {
  "kernelspec": {
   "display_name": "Python 3 (ipykernel)",
   "language": "python",
   "name": "python3"
  },
  "language_info": {
   "codemirror_mode": {
    "name": "ipython",
    "version": 3
   },
   "file_extension": ".py",
   "mimetype": "text/x-python",
   "name": "python",
   "nbconvert_exporter": "python",
   "pygments_lexer": "ipython3",
   "version": "3.10.2"
  }
 },
 "nbformat": 4,
 "nbformat_minor": 5
}
